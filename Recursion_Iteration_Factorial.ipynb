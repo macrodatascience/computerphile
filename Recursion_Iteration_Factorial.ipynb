{
  "nbformat": 4,
  "nbformat_minor": 0,
  "metadata": {
    "colab": {
      "name": "Recursion - Iteration - Factorial.ipynb",
      "provenance": [],
      "authorship_tag": "ABX9TyMtEY+DQDiw1lHvZIdzwQCT",
      "include_colab_link": true
    },
    "kernelspec": {
      "name": "python3",
      "display_name": "Python 3"
    },
    "language_info": {
      "name": "python"
    }
  },
  "cells": [
    {
      "cell_type": "markdown",
      "metadata": {
        "id": "view-in-github",
        "colab_type": "text"
      },
      "source": [
        "<a href=\"https://colab.research.google.com/github/macrodatascience/computerphile/blob/main/Recursion_Iteration_Factorial.ipynb\" target=\"_parent\"><img src=\"https://colab.research.google.com/assets/colab-badge.svg\" alt=\"Open In Colab\"/></a>"
      ]
    },
    {
      "cell_type": "code",
      "execution_count": 4,
      "metadata": {
        "id": "8cfjwHQBsQ8n"
      },
      "outputs": [],
      "source": [
        "def factorial(n):\n",
        "\n",
        "  # using iterative approach\n",
        "  fact = 1\n",
        "  if n<0:\n",
        "    return -1\n",
        "  elif n<2: \n",
        "    return 1\n",
        "  else:\n",
        "    for i in range(1,n+1):\n",
        "      fact = fact * i\n",
        "    return fact\n"
      ]
    },
    {
      "cell_type": "code",
      "source": [
        "factorial(10)"
      ],
      "metadata": {
        "colab": {
          "base_uri": "https://localhost:8080/"
        },
        "id": "jJXw5WOQsq6Y",
        "outputId": "e7c237de-b313-4285-f419-9e0e4c206462"
      },
      "execution_count": 7,
      "outputs": [
        {
          "output_type": "execute_result",
          "data": {
            "text/plain": [
              "3628800"
            ]
          },
          "metadata": {},
          "execution_count": 7
        }
      ]
    },
    {
      "cell_type": "code",
      "source": [
        "def factorial_r(n):\n",
        "\n",
        "  # using recursion approach\n",
        "  fact = 1\n",
        "  if n<0:\n",
        "    return -1\n",
        "  elif n<2: \n",
        "    return 1\n",
        "  else:\n",
        "    return n * factorial_r(n-1)"
      ],
      "metadata": {
        "id": "r1eexdcNs90J"
      },
      "execution_count": 14,
      "outputs": []
    },
    {
      "cell_type": "code",
      "source": [
        "%timeit factorial_r(50)"
      ],
      "metadata": {
        "colab": {
          "base_uri": "https://localhost:8080/"
        },
        "id": "Nd_mAbZ3tMew",
        "outputId": "8c4b1201-34bf-4724-dd6e-36cb0f46f79d"
      },
      "execution_count": 17,
      "outputs": [
        {
          "output_type": "stream",
          "name": "stdout",
          "text": [
            "100000 loops, best of 5: 10.4 µs per loop\n"
          ]
        }
      ]
    },
    {
      "cell_type": "code",
      "source": [
        "%timeit factorial(50)"
      ],
      "metadata": {
        "colab": {
          "base_uri": "https://localhost:8080/"
        },
        "id": "ADMg3m1XtOTq",
        "outputId": "cc4255d7-7e8c-441a-9a39-1751e51a3762"
      },
      "execution_count": 18,
      "outputs": [
        {
          "output_type": "stream",
          "name": "stdout",
          "text": [
            "The slowest run took 19.09 times longer than the fastest. This could mean that an intermediate result is being cached.\n",
            "100000 loops, best of 5: 3.9 µs per loop\n"
          ]
        }
      ]
    },
    {
      "cell_type": "code",
      "source": [
        "%timeit factorial_r(20)"
      ],
      "metadata": {
        "colab": {
          "base_uri": "https://localhost:8080/"
        },
        "id": "8wnd8-fVte0T",
        "outputId": "6bdc72ed-285c-4acf-b1ee-cef4e506a2ac"
      },
      "execution_count": 19,
      "outputs": [
        {
          "output_type": "stream",
          "name": "stdout",
          "text": [
            "100000 loops, best of 5: 3.91 µs per loop\n"
          ]
        }
      ]
    },
    {
      "cell_type": "code",
      "source": [
        "%timeit factorial(20)"
      ],
      "metadata": {
        "colab": {
          "base_uri": "https://localhost:8080/"
        },
        "id": "gs9FfJcWtnlr",
        "outputId": "d881053e-0855-47ab-85a0-6471afa7476c"
      },
      "execution_count": 20,
      "outputs": [
        {
          "output_type": "stream",
          "name": "stdout",
          "text": [
            "The slowest run took 4.02 times longer than the fastest. This could mean that an intermediate result is being cached.\n",
            "100000 loops, best of 5: 1.68 µs per loop\n"
          ]
        }
      ]
    },
    {
      "cell_type": "code",
      "source": [
        ""
      ],
      "metadata": {
        "id": "kTg1qO1ltpzU"
      },
      "execution_count": null,
      "outputs": []
    }
  ]
}