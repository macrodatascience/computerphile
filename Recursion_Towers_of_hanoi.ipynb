{
  "nbformat": 4,
  "nbformat_minor": 0,
  "metadata": {
    "colab": {
      "name": "Recursion - Towers of hanoi.ipynb",
      "provenance": [],
      "authorship_tag": "ABX9TyP+Q5FR1BSo9RFBnaiv97W6",
      "include_colab_link": true
    },
    "kernelspec": {
      "name": "python3",
      "display_name": "Python 3"
    },
    "language_info": {
      "name": "python"
    }
  },
  "cells": [
    {
      "cell_type": "markdown",
      "metadata": {
        "id": "view-in-github",
        "colab_type": "text"
      },
      "source": [
        "<a href=\"https://colab.research.google.com/github/macrodatascience/computerphile/blob/main/Recursion_Towers_of_hanoi.ipynb\" target=\"_parent\"><img src=\"https://colab.research.google.com/assets/colab-badge.svg\" alt=\"Open In Colab\"/></a>"
      ]
    },
    {
      "cell_type": "code",
      "execution_count": 1,
      "metadata": {
        "id": "I86bfhD1Qe7v"
      },
      "outputs": [],
      "source": [
        "def move(f,t):\n",
        "  print(\"Move disc from {} to {}!\".format(f,t))"
      ]
    },
    {
      "cell_type": "code",
      "source": [
        "move(\"A\",\"C\")"
      ],
      "metadata": {
        "colab": {
          "base_uri": "https://localhost:8080/"
        },
        "id": "4asPPievQv4Q",
        "outputId": "1a92193b-4041-4898-eb91-d24dafb5056c"
      },
      "execution_count": 2,
      "outputs": [
        {
          "output_type": "stream",
          "name": "stdout",
          "text": [
            "Move disc from A to C!\n"
          ]
        }
      ]
    },
    {
      "cell_type": "code",
      "source": [
        "def moveVia(f,v,t):\n",
        "  move(f,v)\n",
        "  move(v,t)"
      ],
      "metadata": {
        "id": "Enyk0oBzQxcb"
      },
      "execution_count": 3,
      "outputs": []
    },
    {
      "cell_type": "code",
      "source": [
        "moveVia(\"A\",\"C\",\"C\")"
      ],
      "metadata": {
        "colab": {
          "base_uri": "https://localhost:8080/"
        },
        "id": "Ryxn_y9PRF1f",
        "outputId": "40e9408d-e716-43d4-ef48-1a28c436d0ca"
      },
      "execution_count": 5,
      "outputs": [
        {
          "output_type": "stream",
          "name": "stdout",
          "text": [
            "Move disc from A to B!\n",
            "Move disc from B to C!\n"
          ]
        }
      ]
    },
    {
      "cell_type": "code",
      "source": [
        "def foo(x):\n",
        "  if x!=0:\n",
        "    foo(x-1)\n",
        "    print(x)\n"
      ],
      "metadata": {
        "id": "BEJEMYHlRH7i"
      },
      "execution_count": 14,
      "outputs": []
    },
    {
      "cell_type": "code",
      "source": [
        "def hanoi(n,f,h,t):  # n - no of disks, f - \"from position\", h = \"helper position\", t = \"target position\"\n",
        "  if n==0:\n",
        "    pass\n",
        "  else:\n",
        "    hanoi(n-1,f,t,h)\n",
        "    move(f,t)\n",
        "    hanoi(n-1,h,f,t)\n",
        "  "
      ],
      "metadata": {
        "id": "qFP1X_3vRdJp"
      },
      "execution_count": 21,
      "outputs": []
    },
    {
      "cell_type": "code",
      "source": [
        "hanoi(4,\"A\",\"B\",\"C\")"
      ],
      "metadata": {
        "colab": {
          "base_uri": "https://localhost:8080/"
        },
        "id": "YQKaNlCYUYe7",
        "outputId": "a552f435-89d2-402b-b9fa-75294ca36064"
      },
      "execution_count": 20,
      "outputs": [
        {
          "output_type": "stream",
          "name": "stdout",
          "text": [
            "Move disc from A to B!\n",
            "Move disc from A to C!\n",
            "Move disc from B to C!\n",
            "Move disc from A to B!\n",
            "Move disc from C to A!\n",
            "Move disc from C to B!\n",
            "Move disc from A to B!\n",
            "Move disc from A to C!\n",
            "Move disc from B to C!\n",
            "Move disc from B to A!\n",
            "Move disc from C to A!\n",
            "Move disc from B to C!\n",
            "Move disc from A to B!\n",
            "Move disc from A to C!\n",
            "Move disc from B to C!\n"
          ]
        }
      ]
    },
    {
      "cell_type": "code",
      "source": [
        "def move(a,b):\n",
        "  print(\"Moving disk from {} to {}\".format(a,b))"
      ],
      "metadata": {
        "id": "cVufU2VfReG8"
      },
      "execution_count": 1,
      "outputs": []
    },
    {
      "cell_type": "code",
      "source": [
        "def moveVia(fr,to,via):\n",
        "  move(fr,via)\n",
        "  move(via,to)"
      ],
      "metadata": {
        "id": "_EjIS9WDknzI"
      },
      "execution_count": 3,
      "outputs": []
    },
    {
      "cell_type": "code",
      "source": [
        "moveVia('a','c','b')"
      ],
      "metadata": {
        "colab": {
          "base_uri": "https://localhost:8080/"
        },
        "id": "X9lvvNtrkpJG",
        "outputId": "218476af-11d1-4bee-c03a-b70facf0c3ff"
      },
      "execution_count": 5,
      "outputs": [
        {
          "output_type": "stream",
          "name": "stdout",
          "text": [
            "Moving disk from a to b\n",
            "Moving disk from b to c\n"
          ]
        }
      ]
    },
    {
      "cell_type": "code",
      "source": [
        "def move(s,t):\n",
        "    print(\"Moving disk from {} to {}\".format(s,t))\n",
        "          \n",
        "for i in range(5):\n",
        "    move(i,i+1)\n",
        "\n",
        "def hanoi(n,s,h,t):  # n - no of disks, f - \"from position\", h = \"helper position\", t = \"target position\"\n",
        "  \n",
        "  if n==0:\n",
        "    pass\n",
        "  else:\n",
        "    hanoi(n-1,s,t,h) # first move n-1 discs to helper position\n",
        "    move(s,t) # then move the final disk from source to target\n",
        "    hanoi(n-1,h,s,t) # move back the n-1 discs from helper to source via target"
      ],
      "metadata": {
        "colab": {
          "base_uri": "https://localhost:8080/"
        },
        "id": "63WUTx7JlMd8",
        "outputId": "e05a8ecd-dc96-4e14-d43c-40d8da44e2a2"
      },
      "execution_count": 6,
      "outputs": [
        {
          "output_type": "stream",
          "name": "stdout",
          "text": [
            "Moving disk from 0 to 1\n",
            "Moving disk from 1 to 2\n",
            "Moving disk from 2 to 3\n",
            "Moving disk from 3 to 4\n",
            "Moving disk from 4 to 5\n"
          ]
        }
      ]
    },
    {
      "cell_type": "code",
      "source": [
        "hanoi(1,\"A\",\"B\",\"C\")"
      ],
      "metadata": {
        "colab": {
          "base_uri": "https://localhost:8080/"
        },
        "id": "MqzZW3surIJC",
        "outputId": "b67a90bd-3be9-4307-bedd-5ff7b42090ab"
      },
      "execution_count": 7,
      "outputs": [
        {
          "output_type": "stream",
          "name": "stdout",
          "text": [
            "Moving disk from A to C\n"
          ]
        }
      ]
    },
    {
      "cell_type": "code",
      "source": [
        "hanoi(2,\"A\",\"B\",\"C\")"
      ],
      "metadata": {
        "colab": {
          "base_uri": "https://localhost:8080/"
        },
        "id": "KE5mMO1DrMs7",
        "outputId": "03586406-089f-475f-eafc-f6f46b0d483e"
      },
      "execution_count": 8,
      "outputs": [
        {
          "output_type": "stream",
          "name": "stdout",
          "text": [
            "Moving disk from A to B\n",
            "Moving disk from A to C\n",
            "Moving disk from B to C\n"
          ]
        }
      ]
    },
    {
      "cell_type": "code",
      "source": [
        "hanoi(3,\"A\",\"B\",\"C\")"
      ],
      "metadata": {
        "colab": {
          "base_uri": "https://localhost:8080/"
        },
        "id": "GB2Z-DCSrOe_",
        "outputId": "77755600-ed99-497a-8e34-e17cf15c543d"
      },
      "execution_count": 9,
      "outputs": [
        {
          "output_type": "stream",
          "name": "stdout",
          "text": [
            "Moving disk from A to C\n",
            "Moving disk from A to B\n",
            "Moving disk from C to B\n",
            "Moving disk from A to C\n",
            "Moving disk from B to A\n",
            "Moving disk from B to C\n",
            "Moving disk from A to C\n"
          ]
        }
      ]
    },
    {
      "cell_type": "code",
      "source": [
        "hanoi(4,\"A\",\"B\",\"C\")"
      ],
      "metadata": {
        "colab": {
          "base_uri": "https://localhost:8080/"
        },
        "id": "bv2EpZkErZOz",
        "outputId": "2640d450-2770-407b-d2f4-6b78f740a43f"
      },
      "execution_count": 10,
      "outputs": [
        {
          "output_type": "stream",
          "name": "stdout",
          "text": [
            "Moving disk from A to B\n",
            "Moving disk from A to C\n",
            "Moving disk from B to C\n",
            "Moving disk from A to B\n",
            "Moving disk from C to A\n",
            "Moving disk from C to B\n",
            "Moving disk from A to B\n",
            "Moving disk from A to C\n",
            "Moving disk from B to C\n",
            "Moving disk from B to A\n",
            "Moving disk from C to A\n",
            "Moving disk from B to C\n",
            "Moving disk from A to B\n",
            "Moving disk from A to C\n",
            "Moving disk from B to C\n"
          ]
        }
      ]
    },
    {
      "cell_type": "code",
      "source": [
        ""
      ],
      "metadata": {
        "id": "8SZ1EdWRr_6a"
      },
      "execution_count": null,
      "outputs": []
    }
  ]
}